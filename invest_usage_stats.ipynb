{
 "cells": [
  {
   "cell_type": "code",
   "execution_count": null,
   "id": "5681f492",
   "metadata": {},
   "outputs": [],
   "source": [
    "# Export from a gcloud shell.\n",
    "# It does not include all columns in the table because a dump of all columns\n",
    "# yielded a bad csv probably because of this known issue with exporting NULL values:\n",
    "# https://cloud.google.com/sql/docs/mysql/known-issues#import-export\n",
    "\n",
    "# gcloud sql export csv --escape=\"5C\" software-usage-stats gs://logging-natcap/model_log_table-2022-06-28.csv --query=\"SELECT 'model_name', 'invest_release', 'invest_interface', 'system_full_platform_string', 'time' UNION SELECT model_name, invest_release, invest_interface, system_full_platform_string, time FROM model_log_table\" --database=invest_model_usage\n",
    "\n",
    "# From a local shell:\n",
    "# gsutil cp gs://logging-natcap/model_log_table-2022-06-28.csv ."
   ]
  },
  {
   "cell_type": "code",
   "execution_count": 1,
   "id": "79d1f3bd",
   "metadata": {},
   "outputs": [],
   "source": [
    "%load_ext autoreload\n",
    "%autoreload 2"
   ]
  },
  {
   "cell_type": "code",
   "execution_count": 2,
   "id": "332740af",
   "metadata": {},
   "outputs": [],
   "source": [
    "import pandas\n",
    "import altair\n",
    "\n",
    "from load_and_clean import load_and_clean_csv\n",
    "\n",
    "pandas.set_option('display.max_rows', 100)"
   ]
  },
  {
   "cell_type": "code",
   "execution_count": 3,
   "id": "7434b0e1",
   "metadata": {},
   "outputs": [],
   "source": [
    "table_path = 'model_log_table-2022-06-28.csv'"
   ]
  },
  {
   "cell_type": "code",
   "execution_count": 4,
   "id": "952072e8",
   "metadata": {},
   "outputs": [
    {
     "name": "stdout",
     "output_type": "stream",
     "text": [
      "dropping 22888 rows for models we dont care about\n",
      "remaining model counts:\n",
      "sdr                                 54583\n",
      "annual_water_yield                  41689\n",
      "carbon                              38291\n",
      "habitat_quality                     30209\n",
      "ndr                                 27309\n",
      "seasonal_water_yield                19450\n",
      "recmodel_client                     17788\n",
      "hra                                  9184\n",
      "fisheries                            8556\n",
      "pollination                          8230\n",
      "urban_cooling_model                  7345\n",
      "delineateit                          7331\n",
      "coastal_vulnerability                6714\n",
      "scenario_generator                   6452\n",
      "coastal_blue_carbon                  5822\n",
      "scenario_gen_proximity               3670\n",
      "urban_flood_risk_mitigation          3349\n",
      "scenic_quality                       2531\n",
      "routedem                             1997\n",
      "forest_carbon_edge_effect            1915\n",
      "crop_production_percentile           1891\n",
      "wind_energy                          1471\n",
      "root                                 1144\n",
      "crop_production_regression           1137\n",
      "globio                               1101\n",
      "wave_energy                           960\n",
      "overlap_analysis                      843\n",
      "fisheries_hst                         578\n",
      "finfish_aquaculture                   577\n",
      "stormwater                            257\n",
      "marine_water_quality_biophysical      252\n",
      "timber                                232\n",
      "hra2                                   59\n",
      "urban_nature_access                    18\n",
      "habitat_suitability                     2\n",
      "Name: model, dtype: int64\n",
      "dropping 0 rows with missing timestamp\n"
     ]
    }
   ],
   "source": [
    "df = load_and_clean_csv(table_path)"
   ]
  },
  {
   "cell_type": "markdown",
   "id": "12d79465",
   "metadata": {},
   "source": [
    "# Workbench stats"
   ]
  },
  {
   "cell_type": "code",
   "execution_count": 6,
   "id": "17a48c37",
   "metadata": {},
   "outputs": [
    {
     "name": "stdout",
     "output_type": "stream",
     "text": [
      "4514 invest runs since workbench release\n",
      "980\n"
     ]
    }
   ],
   "source": [
    "release_date = pandas.to_datetime('2022-05-24', utc=True)\n",
    "post_wb_runs = df[df['datetime'] >= release_date]\n",
    "print(f'{post_wb_runs.shape[0]} invest runs since workbench release')\n",
    "# wb_runs = post_wb_runs[post_wb_runs['invest_interface'].str.contains('Workbench')]\n",
    "# print(f'including {wb_runs.shape[0]} Workbench 0.1.0-beta runs')\n",
    "# wb_runs\n",
    "v311 = post_wb_runs[post_wb_runs['invest_release'].str.contains('3.11.0')]\n",
    "print(v311.shape[0])"
   ]
  },
  {
   "cell_type": "markdown",
   "id": "d8985bb8",
   "metadata": {},
   "source": [
    "# Monthly counts by model"
   ]
  },
  {
   "cell_type": "code",
   "execution_count": null,
   "id": "67cae5f9",
   "metadata": {},
   "outputs": [],
   "source": [
    "# Aggregate to a time frequency so we can count runs per unit of time per model\n",
    "frequency = 'M'\n",
    "data = df.groupby([\n",
    "    pandas.Grouper(key='datetime', freq=frequency),\n",
    "    pandas.Grouper(key='model')]).size().reset_index(name='counts')\n",
    "data.head()"
   ]
  },
  {
   "cell_type": "code",
   "execution_count": null,
   "id": "4bcc9264",
   "metadata": {},
   "outputs": [],
   "source": [
    "# For the benefit of plots, fill in 0s where no models were run\n",
    "wide = data.pivot(index='datetime', columns='model', values='counts')\n",
    "wide.fillna(0, inplace=True)\n",
    "months_with_counts = len(wide)\n",
    "\n",
    "# And in case there were months where no models were run\n",
    "# And in case the first & last months are incomplete (assume they are)\n",
    "# trim them off with offsets\n",
    "begin = wide.index.min() + pandas.offsets.MonthBegin()\n",
    "end = wide.index.max() - pandas.offsets.MonthEnd()\n",
    "date_range = pandas.date_range(begin, end, freq=frequency)\n",
    "wide = wide.reindex(date_range, fill_value=0)\n",
    "print(f'complete data from {begin} to {end}')"
   ]
  },
  {
   "cell_type": "code",
   "execution_count": null,
   "id": "547620dd",
   "metadata": {},
   "outputs": [],
   "source": [
    "# Format data for altair\n",
    "wide = wide.reset_index() # altair cannot plot indices, so move date to normal column\n",
    "long = pandas.melt(wide, id_vars='index')\n",
    "# long.head()"
   ]
  },
  {
   "cell_type": "code",
   "execution_count": null,
   "id": "ec40a3a7",
   "metadata": {},
   "outputs": [],
   "source": [
    "def plot_model_counts_over_time(model_list, title=None):\n",
    "    altair.data_transformers.disable_max_rows()\n",
    "    selection = altair.selection_multi(fields=['model'], bind='legend')\n",
    "\n",
    "    to_plot = long[long['model'].isin(model_list)]\n",
    "    return (\n",
    "        altair.Chart(to_plot).mark_line().encode(\n",
    "            altair.X('index:T', axis=altair.Axis(format='%Y-%m'), title=None),\n",
    "            altair.Y('value:Q', title='runs per month'),\n",
    "            color=altair.Color('model', scale=altair.Scale(scheme='category10')),\n",
    "            opacity=altair.condition(selection, altair.value(1), altair.value(0.2)),\n",
    "            size=altair.value(1)\n",
    "        ).properties(\n",
    "            width=800,\n",
    "            height=300,\n",
    "            title=title\n",
    "        ).add_selection(\n",
    "            selection\n",
    "        ).configure_axis(\n",
    "            grid=False,\n",
    "            labelFontSize=12,\n",
    "            titleFontSize=14,\n",
    "            titlePadding=15\n",
    "        ).configure_legend(\n",
    "            labelFontSize=12,\n",
    "            title=None\n",
    "        )\n",
    "    )"
   ]
  },
  {
   "cell_type": "code",
   "execution_count": null,
   "id": "698e663f",
   "metadata": {},
   "outputs": [],
   "source": [
    "all_models_counts = long.groupby('index').sum().reset_index()\n",
    "altair.Chart(all_models_counts).mark_line().encode(\n",
    "    altair.X('index:T', axis=altair.Axis(format='%Y-%m'), title=None),\n",
    "    altair.Y('value:Q', title='runs per month'),\n",
    "    size=altair.value(1)\n",
    ").properties(\n",
    "    width=800,\n",
    "    height=300,\n",
    "    title='all models'\n",
    ").configure_axis(\n",
    "    grid=False\n",
    ")"
   ]
  },
  {
   "cell_type": "markdown",
   "id": "8e319db0",
   "metadata": {},
   "source": [
    "## These plots are interactive - click a series in the legend"
   ]
  },
  {
   "cell_type": "code",
   "execution_count": null,
   "id": "7ad72c26",
   "metadata": {},
   "outputs": [],
   "source": [
    "high_use_models = ['sdr',\n",
    "                   'hydropower_water_yield',\n",
    "                   'carbon',\n",
    "                   'habitat_quality',\n",
    "                   'ndr',\n",
    "                   'seasonal_water_yield',\n",
    "                   'recmodel_client',\n",
    "                   'fisheries'\n",
    "                  ]\n",
    "plot_model_counts_over_time(high_use_models, 'high-use models')"
   ]
  },
  {
   "cell_type": "code",
   "execution_count": null,
   "id": "685d5c48",
   "metadata": {},
   "outputs": [],
   "source": [
    "mid_use_models = ['pollination',\n",
    "                  'hra',\n",
    "                  'scenario_generator',\n",
    "                  'coastal_vulnerability',\n",
    "                  'urban_cooling_model',\n",
    "                  'coastal_blue_carbon'\n",
    "                 ]\n",
    "plot_model_counts_over_time(mid_use_models, 'mid-use models')"
   ]
  },
  {
   "cell_type": "code",
   "execution_count": null,
   "id": "e078ecac",
   "metadata": {},
   "outputs": [],
   "source": [
    "mid_low_use_models = [\n",
    "    'delineateit',\n",
    "    'scenario_gen_proximity',\n",
    "    'urban_flood_risk_mitigation',\n",
    "    'scenic_quality',\n",
    "    'routedem',\n",
    "    'crop_production_percentile',\n",
    "    'wind_energy',\n",
    "    'crop_production_regression',\n",
    "]\n",
    "plot_model_counts_over_time(mid_low_use_models, 'mid-low-use models')"
   ]
  },
  {
   "cell_type": "code",
   "execution_count": null,
   "id": "fb19a517",
   "metadata": {},
   "outputs": [],
   "source": [
    "low_use_models = [\n",
    "    'overlap_analysis',\n",
    "    'wave_energy',\n",
    "    'finfish_aquaculture',\n",
    "    'fisheries_hst',\n",
    "    'forest_carbon_edge_effect',\n",
    "    'globio',\n",
    "    'marine_water_quality_biophysical',\n",
    "    'timber',\n",
    "]\n",
    "plot_model_counts_over_time(low_use_models, 'low-use models (including some that are already deprecated)')"
   ]
  },
  {
   "cell_type": "code",
   "execution_count": null,
   "id": "3f2a2c7d",
   "metadata": {},
   "outputs": [],
   "source": [
    "long[long['model'] == 'wave_energy']"
   ]
  },
  {
   "cell_type": "code",
   "execution_count": null,
   "id": "0000c6ed",
   "metadata": {},
   "outputs": [],
   "source": []
  }
 ],
 "metadata": {
  "kernelspec": {
   "display_name": "Python 3 (ipykernel)",
   "language": "python",
   "name": "python3"
  },
  "language_info": {
   "codemirror_mode": {
    "name": "ipython",
    "version": 3
   },
   "file_extension": ".py",
   "mimetype": "text/x-python",
   "name": "python",
   "nbconvert_exporter": "python",
   "pygments_lexer": "ipython3",
   "version": "3.9.7"
  }
 },
 "nbformat": 4,
 "nbformat_minor": 5
}
